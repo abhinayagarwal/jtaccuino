{
    "cells": [
        {
            "cell_type": "code",
            "execution_count": 0,
            "id": "ed256eaa-8e36-4a89-a7f1-68f7c276b9bf",
            "metadata": {
            },
            "outputs": [
                {
                    "data": {
                        "text/plain": "int: 16"
                    },
                    "metadata": {
                    },
                    "output_type": "display_data"
                }
            ],
            "source": "var i=16;\ni"
        },
        {
            "cell_type": "code",
            "execution_count": 0,
            "id": "9e34e4ac-c8c9-4c83-aefb-71f0ee8585d8",
            "metadata": {
            },
            "outputs": [
                {
                    "data": {
                        "text/plain": "double: -0.9589242746631385"
                    },
                    "metadata": {
                    },
                    "output_type": "display_data"
                }
            ],
            "source": "var q = Math.sin(5);\nq"
        },
        {
            "cell_type": "code",
            "execution_count": 0,
            "id": "6d7697c2-40d8-46d8-a7cb-7c323e797926",
            "metadata": {
            },
            "outputs": [
                {
                    "data": {
                        "text/plain": "\"\\\"int: 12\\\"\""
                    },
                    "metadata": {
                    },
                    "output_type": "display_data"
                }
            ],
            "source": "var j=i;\nj;\nj;\nj;\nj;\nj;\nj;\nj;\nj;\n\n\n\n"
        }
    ],
    "metadata": {
        "kernel_info": {
            "name": "JTaccuino",
            "version": "0.1"
        },
        "language_info": {
            "name": "Java",
            "version": "22"
        }
    },
    "nbformat": 4,
    "nbformat_minor": 5
}