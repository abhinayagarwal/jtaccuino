{
    "cells": [
        {
            "cell_type": "code",
            "execution_count": 0,
            "id": "5fcf9d9d-be51-464b-b175-f0abf7bef715",
            "metadata": {
            },
            "outputs": [
            ],
            "source": "record Example(String givenName, String sureName){};"
        },
        {
            "cell_type": "code",
            "execution_count": 0,
            "id": "77e5947f-3354-45a2-aa55-1eac2c8b790f",
            "metadata": {
            },
            "outputs": [
            ],
            "source": "var a = new Example(\"Sven\", \"Reimers\")"
        },
        {
            "cell_type": "code",
            "execution_count": 0,
            "id": "51415b3b-3ee4-40b1-ba3e-c1cbf8aa7d8b",
            "metadata": {
            },
            "outputs": [
                {
                    "data": {
                        "text/plain": "Example: Example[givenName=Sven, sureName=Reimers]"
                    },
                    "metadata": {
                    },
                    "output_type": "display_data"
                }
            ],
            "source": "a"
        },
        {
            "cell_type": "code",
            "execution_count": 0,
            "id": "fccfd6de-a52f-4295-893b-8dd3995e0fc6",
            "metadata": {
            },
            "outputs": [
            ],
            "source": "var b = new Example(\"Devoxx\", \"Be\")"
        },
        {
            "cell_type": "code",
            "execution_count": 0,
            "id": "cad2a771-be6f-477e-9912-494dda80fc50",
            "metadata": {
            },
            "outputs": [
                {
                    "data": {
                        "text/plain": "Example: Example[givenName=Devoxx, sureName=Be]"
                    },
                    "metadata": {
                    },
                    "output_type": "display_data"
                }
            ],
            "source": "b\n"
        },
        {
            "cell_type": "code",
            "execution_count": 0,
            "id": "3bebe4b7-ebdd-4125-bd4a-429b0f974f5c",
            "metadata": {
            },
            "outputs": [
            ],
            "source": "import java.util.List;\nvar names = List.of(a,b);"
        },
        {
            "cell_type": "code",
            "execution_count": 0,
            "id": "50180c8f-6913-45d7-ae1f-4fabab74f313",
            "metadata": {
            },
            "outputs": [
                {
                    "data": {
                        "text/plain": "List<Example>: [Example[givenName=Sven, sureName=Reimers], Example[givenName=Devoxx, sureName=Be]]"
                    },
                    "metadata": {
                    },
                    "output_type": "display_data"
                }
            ],
            "source": "names"
        },
        {
            "cell_type": "code",
            "execution_count": 0,
            "id": "94e617ad-3d57-4d41-8c61-961279ea1bc2",
            "metadata": {
            },
            "outputs": [
            ],
            "source": "var arrayNames = new Record[]{a, b}"
        },
        {
            "cell_type": "code",
            "execution_count": 0,
            "id": "d3131ee8-c4bb-48d1-b04c-1138a7cd0d27",
            "metadata": {
            },
            "outputs": [
                {
                    "data": {
                        "text/plain": "Record[]: Record[2] { Example[givenName=Sven, sureName=Reimers], Example[givenName=Devoxx, sureName=Be] }"
                    },
                    "metadata": {
                    },
                    "output_type": "display_data"
                }
            ],
            "source": "arrayNames"
        },
        {
            "cell_type": "code",
            "execution_count": 0,
            "id": "fa0b2fd0-9c78-4d2d-b11d-9491b45704e2",
            "metadata": {
            },
            "outputs": [
                {
                    "data": {
                        "image/png": "[encoded data removed]"
                    },
                    "metadata": {
                    },
                    "output_type": "display_data"
                }
            ],
            "source": "display(arrayNames)"
        }
    ],
    "metadata": {
        "language_info": {
            "name": "Java",
            "version": "22"
        },
        "kernel_info": {
            "name": "JTaccuino",
            "version": "0.1"
        }
    },
    "nbformat": 4,
    "nbformat_minor": 5
}