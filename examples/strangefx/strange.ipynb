{
    "cells": [
        {
            "cell_type": "code",
            "id": "b34a5602-36d7-45a7-a406-e18a19bfbd77",
            "metadata": {
            },
            "outputs": [
            ],
            "source": "addDependency(\"org.redfx:strangefx:0.1.4\");"
        },
        {
            "cell_type": "code",
            "id": "4865ad00-ad9c-4682-9398-b105c3816546",
            "metadata": {
            },
            "outputs": [
            ],
            "source": "import org.redfx.strange.*;\nimport org.redfx.strange.gate.*;\nimport org.redfx.strange.local.SimpleQuantumExecutionEnvironment;\nimport org.redfx.strangefx.render.Renderer;\nimport java.util.Arrays;"
        },
        {
            "cell_type": "code",
            "id": "c4885052-99bd-4c4f-8baf-d9f5bbe4e932",
            "metadata": {
            },
            "outputs": [
            ],
            "source": "var p = new Program(2, new Step(new X(0)), new Step(new Hadamard(0), new X(1)));\nvar sqee = new SimpleQuantumExecutionEnvironment();\nvar qubits = sqee.runProgram(p).getQubits();"
        },
        {
            "cell_type": "code",
            "id": "755b6dcf-568e-4898-a33c-8875a57552d8",
            "metadata": {
            },
            "outputs": [
            ],
            "source": "var board = Renderer.getRenderGroup(p);\nboard.getStylesheets().add(Renderer.class.getResource(\"/styles.css\").toExternalForm());\ndisplay(board);"
        }
    ],
    "metadata": {
        "language_info": {
            "version": "21",
            "name": "Java"
        },
        "kernel_info": {
            "version": "0.1",
            "name": "JTaccuino"
        }
    },
    "nbformat": 4,
    "nbformat_minor": 5
}