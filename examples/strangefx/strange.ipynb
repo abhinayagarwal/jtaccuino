{
    "cells": [
        {
            "cell_type": "code",
            "metadata": {
            },
            "outputs": [
            ],
            "source": "addDependency(\"org.redfx:strangefx:0.1.4\");"
        },
        {
            "cell_type": "code",
            "metadata": {
            },
            "outputs": [
            ],
            "source": "import org.redfx.strange.*;\nimport org.redfx.strange.gate.*;\nimport org.redfx.strange.local.SimpleQuantumExecutionEnvironment;\nimport org.redfx.strangefx.render.Renderer;\nimport java.util.Arrays;"
        },
        {
            "cell_type": "code",
            "metadata": {
            },
            "outputs": [
            ],
            "source": "var p = new Program(2, new Step(new X(0)), new Step(new Hadamard(0), new X(1)));\nvar sqee = new SimpleQuantumExecutionEnvironment();\nvar qubits = sqee.runProgram(p).getQubits();"
        },
        {
            "cell_type": "code",
            "metadata": {
            },
            "outputs": [
            ],
            "source": "var board = Renderer.getRenderGroup(p);\nboard.getStylesheets().add(Renderer.class.getResource(\"/styles.css\").toExternalForm());\ndisplay(board);"
        }
    ],
    "metadata": {
        "kernel_info": {
            "version": "0.1",
            "name": "JTaccuino"
        },
        "language_info": {
            "version": "21",
            "name": "Java"
        }
    },
    "nbformat": 5,
    "nbformat_minor": 9
}