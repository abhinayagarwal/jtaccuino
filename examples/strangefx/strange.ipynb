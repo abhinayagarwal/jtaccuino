{
    "cells": [
        {
            "cell_type": "code",
            "execution_count": 0,
            "id": "b34a5602-36d7-45a7-a406-e18a19bfbd77",
            "metadata": {
            },
            "outputs": [
            ],
            "source": "addDependency(\"org.redfx:strangefx:0.1.4\");"
        },
        {
            "cell_type": "code",
            "execution_count": 0,
            "id": "4865ad00-ad9c-4682-9398-b105c3816546",
            "metadata": {
            },
            "outputs": [
            ],
            "source": "import org.redfx.strange.*;\nimport org.redfx.strange.gate.*;\nimport org.redfx.strange.local.SimpleQuantumExecutionEnvironment;\nimport org.redfx.strangefx.render.Renderer;\nimport java.util.Arrays;"
        },
        {
            "cell_type": "code",
            "execution_count": 0,
            "id": "c4885052-99bd-4c4f-8baf-d9f5bbe4e932",
            "metadata": {
            },
            "outputs": [
            ],
            "source": "var p = new Program(2, new Step(new X(0)), new Step(new Hadamard(0), new X(1)));\nvar sqee = new SimpleQuantumExecutionEnvironment();\nvar qubits = sqee.runProgram(p).getQubits();"
        },
        {
            "cell_type": "code",
            "execution_count": 0,
            "id": "755b6dcf-568e-4898-a33c-8875a57552d8",
            "metadata": {
            },
            "outputs": [
                {
                    "data": {
                        "image/png": "[encoded data removed]"
                    },
                    "metadata": {
                    },
                    "output_type": "display_data"
                }
            ],
            "source": "var board = Renderer.getRenderGroup(p);\nboard.getStylesheets().add(Renderer.class.getResource(\"/styles.css\").toExternalForm());\ndisplay(board);"
        }
    ],
    "metadata": {
        "kernel_info": {
            "name": "JTaccuino",
            "version": "0.1"
        },
        "language_info": {
            "name": "Java",
            "version": "21"
        }
    },
    "nbformat": 4,
    "nbformat_minor": 5
}