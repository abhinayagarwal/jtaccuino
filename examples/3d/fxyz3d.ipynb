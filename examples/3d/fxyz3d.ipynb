{
    "cells": [{
            "cell_type": "java",
            "metadata": {},
            "outputs": [],
            "source": "addDependency(\"org.fxyz3d:fxyz3d:0.6.0\");"
        }, {
            "cell_type": "java",
            "metadata": {},
            "outputs": [],
            "source": "import javafx.scene.Group;\nimport javafx.scene.PerspectiveCamera;\nimport javafx.scene.SceneAntialiasing;\nimport javafx.scene.SubScene;\nimport javafx.scene.paint.Color;\nimport javafx.scene.shape.CullFace;\nimport org.fxyz3d.shapes.primitives.SpringMesh;\nimport org.fxyz3d.utils.CameraTransformer;"
        }, {
            "cell_type": "java",
            "metadata": {},
            "outputs": [],
            "source": "var camera = new PerspectiveCamera(true);\ncamera.setNearClip(0.1);\ncamera.setFarClip(10000.0);\ncamera.setTranslateX(10);\ncamera.setTranslateZ(-100);\ncamera.setFieldOfView(20);\n\nvar cameraTransform = new CameraTransformer();\ncameraTransform.getChildren().add(camera);\ncameraTransform.ry.setAngle(-30.0);\ncameraTransform.rx.setAngle(-15.0);\n\nvar spring = new SpringMesh(10, 2, 2, 8 * 2 * Math.PI, 200, 100, 0, 0);\nspring.setCullFace(CullFace.NONE);\nspring.setTextureModeVertices3D(1530, p -> p.f);\n\nvar group = new Group(cameraTransform, spring);\nvar subScene = new SubScene(group, 300, 200, true, SceneAntialiasing.BALANCED);\nsubScene.setCamera(camera);\ndisplay(subScene);"
        }],
    "metadata": {},
    "nbformat": 4,
    "nbformat_minor": 4
}