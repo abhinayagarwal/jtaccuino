{
    "cells": [
        {
            "cell_type": "markdown",
            "id": "2d6dfe6a-badd-416b-a062-5bc13d299ec9",
            "metadata": {
            },
            "outputs": [
            ],
            "source": "# Fxyz3D Example\nThis is an example :+1: how to use **Fxyz3d** in *JTaccuino*.\n## Dependencies\nTo use **Fxyz3d** we need to add it to our environment using `addDependency`"
        },
        {
            "cell_type": "code",
            "id": "d77ae423-5a74-40c9-ba79-b1561c3175d6",
            "metadata": {
            },
            "outputs": [
            ],
            "source": "addDependency(\"org.fxyz3d:fxyz3d:0.6.0\");"
        },
        {
            "cell_type": "markdown",
            "id": "0cbe764d-e169-4f60-9480-4f813233ed41",
            "metadata": {
            },
            "outputs": [
            ],
            "source": "Now we add some `import`'s to make the necessary types available:"
        },
        {
            "cell_type": "code",
            "id": "062332b9-01c2-424b-ad32-0fa84142d807",
            "metadata": {
            },
            "outputs": [
            ],
            "source": "import javafx.scene.Group;\nimport javafx.scene.PerspectiveCamera;\nimport javafx.scene.SceneAntialiasing;\nimport javafx.scene.SubScene;\nimport javafx.scene.paint.Color;\nimport javafx.scene.shape.CullFace;\nimport org.fxyz3d.shapes.primitives.SpringMesh;\nimport org.fxyz3d.utils.CameraTransformer;"
        },
        {
            "cell_type": "markdown",
            "id": "6e90b3cf-3fa2-4e19-8a3e-48946fa556e2",
            "metadata": {
            },
            "outputs": [
            ],
            "source": "Let's setup some `Camera` stuff so we have **3D**\n- use  `PerspectiveCamera`\n- and do some transform"
        },
        {
            "cell_type": "code",
            "id": "dc4ec790-7b24-4d71-a771-2630bba4ee16",
            "metadata": {
            },
            "outputs": [
            ],
            "source": "var camera = new PerspectiveCamera(true);\ncamera.setNearClip(0.1);\ncamera.setFarClip(10000.0);\ncamera.setTranslateX(10);\ncamera.setTranslateZ(-100);\ncamera.setFieldOfView(20);\n\nvar cameraTransform = new CameraTransformer();\ncameraTransform.getChildren().add(camera);\ncameraTransform.ry.setAngle(-30.0);\ncameraTransform.rx.setAngle(-15.0);"
        },
        {
            "cell_type": "markdown",
            "id": "a8413375-3719-4bee-a9ff-8a4e67e11d71",
            "metadata": {
            },
            "outputs": [
            ],
            "source": "Define the `spring` to show as a *mesh*"
        },
        {
            "cell_type": "code",
            "id": "88717602-0d5b-4130-a710-79897bb7a3b8",
            "metadata": {
            },
            "outputs": [
            ],
            "source": "var spring = new SpringMesh(10, 2, 2, 8 * 2 * Math.PI, 200, 100, 0, 0);\nspring.setCullFace(CullFace.NONE);\nspring.setTextureModeVertices3D(1530, p -> p.f);"
        },
        {
            "cell_type": "markdown",
            "id": "b3fcca37-1893-4bf5-9ac4-8cee5432cb01",
            "metadata": {
            },
            "outputs": [
            ],
            "source": "Build a subscene so that we can show everything in *JavaFX*"
        },
        {
            "cell_type": "code",
            "id": "92b8dffd-8be0-486d-90f7-dc981ee5273c",
            "metadata": {
            },
            "outputs": [
            ],
            "source": "var group = new Group(cameraTransform, spring);\nvar subScene = new SubScene(group, 300, 200, true, SceneAntialiasing.BALANCED);\nsubScene.setCamera(camera);"
        },
        {
            "cell_type": "markdown",
            "id": "1bc924da-0625-437b-90d5-f72fcc212167",
            "metadata": {
            },
            "outputs": [
            ],
            "source": "Use magic `display` call to show the `subScene' in **JTaccuino**  :clap:"
        },
        {
            "cell_type": "code",
            "id": "789e0fd3-b787-444e-b9ec-8157fdced549",
            "metadata": {
            },
            "outputs": [
            ],
            "source": "display(subScene);"
        }
    ],
    "metadata": {
        "kernel_info": {
            "name": "JTaccuino",
            "version": "0.1"
        },
        "language_info": {
            "name": "Java",
            "version": "21"
        }
    },
    "nbformat": 4,
    "nbformat_minor": 5
}