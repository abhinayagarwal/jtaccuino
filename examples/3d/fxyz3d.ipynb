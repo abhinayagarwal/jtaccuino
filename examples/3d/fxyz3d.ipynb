{
    "cells": [
        {
            "cell_type": "markdown",
            "metadata": {
            },
            "outputs": [
            ],
            "source": "# Fxyz3D Example\nThis is an example :+1: how to use **Fxyz3d** in *JTaccuino*.\n## Dependencies\nTo use **Fxyz3d** we need to add it to our environment using ``addDependency`"
        },
        {
            "cell_type": "code",
            "metadata": {
            },
            "outputs": [
            ],
            "source": "addDependency(\"org.fxyz3d:fxyz3d:0.6.0\");"
        },
        {
            "cell_type": "markdown",
            "metadata": {
            },
            "outputs": [
            ],
            "source": "Now we add some `import`'s to make the necessary types available:"
        },
        {
            "cell_type": "code",
            "metadata": {
            },
            "outputs": [
            ],
            "source": "import javafx.scene.Group;\nimport javafx.scene.PerspectiveCamera;\nimport javafx.scene.SceneAntialiasing;\nimport javafx.scene.SubScene;\nimport javafx.scene.paint.Color;\nimport javafx.scene.shape.CullFace;\nimport org.fxyz3d.shapes.primitives.SpringMesh;\nimport org.fxyz3d.utils.CameraTransformer;"
        },
        {
            "cell_type": "markdown",
            "metadata": {
            },
            "outputs": [
            ],
            "source": "Let's setup some `Camera` stuff so we have **3D**\n- use  `PerspectiveCamera`\n- and do some transform"
        },
        {
            "cell_type": "code",
            "metadata": {
            },
            "outputs": [
            ],
            "source": "var camera = new PerspectiveCamera(true);\ncamera.setNearClip(0.1);\ncamera.setFarClip(10000.0);\ncamera.setTranslateX(10);\ncamera.setTranslateZ(-100);\ncamera.setFieldOfView(20);\n\nvar cameraTransform = new CameraTransformer();\ncameraTransform.getChildren().add(camera);\ncameraTransform.ry.setAngle(-30.0);\ncameraTransform.rx.setAngle(-15.0);"
        },
        {
            "cell_type": "markdown",
            "metadata": {
            },
            "outputs": [
            ],
            "source": "Define the `spring` to show as a *mesh*"
        },
        {
            "cell_type": "code",
            "metadata": {
            },
            "outputs": [
            ],
            "source": "var spring = new SpringMesh(10, 2, 2, 8 * 2 * Math.PI, 200, 100, 0, 0);\nspring.setCullFace(CullFace.NONE);\nspring.setTextureModeVertices3D(1530, p -> p.f);"
        },
        {
            "cell_type": "markdown",
            "metadata": {
            },
            "outputs": [
            ],
            "source": "Build a subscene so that we can show everything in *JavaFX*"
        },
        {
            "cell_type": "code",
            "metadata": {
            },
            "outputs": [
            ],
            "source": "var group = new Group(cameraTransform, spring);\nvar subScene = new SubScene(group, 300, 200, true, SceneAntialiasing.BALANCED);\nsubScene.setCamera(camera);"
        },
        {
            "cell_type": "markdown",
            "metadata": {
            },
            "outputs": [
            ],
            "source": "Use magic `display` call to show the `subScene' in **JTaccuino**  :clap:"
        },
        {
            "cell_type": "code",
            "metadata": {
            },
            "outputs": [
            ],
            "source": "display(subScene);"
        }
    ],
    "metadata": {
        "kernel_info": {
            "version": "0.1",
            "name": "JTaccuino"
        },
        "language_info": {
            "version": "21",
            "name": "Java"
        }
    },
    "nbformat": 5,
    "nbformat_minor": 9
}