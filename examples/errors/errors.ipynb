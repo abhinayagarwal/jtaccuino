{
    "cells": [
        {
            "cell_type": "code",
            "execution_count": 0,
            "id": "aa6bc47e-6c0f-4fc4-b50c-7f307b74ade1",
            "metadata": {
            },
            "outputs": [
            ],
            "source": "var a=5;"
        },
        {
            "cell_type": "code",
            "execution_count": 0,
            "id": "de1de314-1538-44e6-ac28-5a2c31ca377c",
            "metadata": {
            },
            "outputs": [
            ],
            "source": "var b=0;"
        },
        {
            "cell_type": "code",
            "execution_count": 0,
            "id": "acefab62-8502-4481-a4b5-973dd91eeb3c",
            "metadata": {
            },
            "outputs": [
            ],
            "source": "a/b;\na+d;"
        }
    ],
    "metadata": {
        "language_info": {
            "version": "21",
            "name": "Java"
        },
        "kernel_info": {
            "version": "0.1",
            "name": "JTaccuino"
        }
    },
    "nbformat": 4,
    "nbformat_minor": 5
}