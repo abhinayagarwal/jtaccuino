{
    "cells": [
        {
            "cell_type": "markdown",
            "id": "85059791-7793-4084-8811-bb4f4192d9ba",
            "metadata": {
            },
            "source": "# Tablesaw \n\n[Tablesaw](https://tablesaw.tech/) provides the ability to easily transform, summarize, and filter data, as well as computing descriptive statistics. It can also be used easily with libraries like Smile, which provides fundamental machine learning algorithms.\n\nThis notebook has some basic demos of how to use Tablesaw, including visualizing the results for which it uses the BeakerX interactive visualization APIs. Tablesaw also provides its own visualization APIs if you wish to do visualization outside of BeakerX. The notebook covers basic table manipulation, k-means clustering, linear regression, and fetching financial data."
        },
        {
            "cell_type": "code",
            "execution_count": 0,
            "id": "6445b9a9-e4ea-411a-9626-304e5e6a8ea8",
            "metadata": {
            },
            "outputs": [
            ],
            "source": "addDependency(\"tech.tablesaw:tablesaw-core:0.43.1\");\naddDependency(\"eu.hansolo.fx:charts:17.1.51\");\naddDependency(\"com.github.haifengl:smile-core:2.0.0\");"
        },
        {
            "cell_type": "code",
            "execution_count": 0,
            "id": "0484a452-940e-4825-b1be-0845af7f7d76",
            "metadata": {
            },
            "outputs": [
            ],
            "source": "import static tech.tablesaw.aggregate.AggregateFunctions.*;\nimport tech.tablesaw.api.*;\nimport tech.tablesaw.columns.*;\n\n// javafx imports\nimport javafx.scene.paint.Color;\nimport javafx.geometry.Orientation;\n\n// chart imports\nimport eu.hansolo.fx.charts.ChartType;\nimport eu.hansolo.fx.charts.Position;\nimport eu.hansolo.fx.charts.XYChart;\nimport eu.hansolo.fx.charts.XYPane;\nimport eu.hansolo.fx.charts.data.XYChartItem;\nimport eu.hansolo.fx.charts.tools.Helper;\nimport eu.hansolo.fx.charts.series.XYSeriesBuilder;\n"
        },
        {
            "cell_type": "code",
            "execution_count": 0,
            "id": "bda37c3a-ce91-40a9-ba7a-e8fe73864e96",
            "metadata": {
            },
            "outputs": [
            ],
            "source": "var tornadoes = Table.read().csv(\"../examples/jtablesaw/resources/tornadoes_2014.csv\");"
        },
        {
            "cell_type": "code",
            "execution_count": 0,
            "id": "c0cf0c16-f8d1-472c-8cc2-c302403e6306",
            "metadata": {
            },
            "outputs": [
                {
                    "data": {
                        "text/plain": "Table:      Structure of tornadoes_2014.csv     \n Index  |  Column Name  |  Column Type  |\n-----------------------------------------\n     0  |         Date  |   LOCAL_DATE  |\n     1  |         Time  |   LOCAL_TIME  |\n     2  |        State  |       STRING  |\n     3  |     State No  |      INTEGER  |\n     4  |        Scale  |      INTEGER  |\n     5  |     Injuries  |      INTEGER  |\n     6  |   Fatalities  |      INTEGER  |\n     7  |    Start Lat  |       DOUBLE  |\n     8  |    Start Lon  |       DOUBLE  |\n     9  |       Length  |       DOUBLE  |\n    10  |        Width  |      INTEGER  |"
                    },
                    "metadata": {
                    },
                    "output_type": "display_data"
                }
            ],
            "source": "tornadoes.structure()"
        },
        {
            "cell_type": "code",
            "execution_count": 0,
            "id": "fa26fad2-6e01-47f0-9e88-6c996d2b840c",
            "metadata": {
            },
            "outputs": [
                {
                    "data": {
                        "text/plain": "java.util.List<String>: [Date, Time, State, State No, Scale, Injuries, Fatalities, Start Lat, Start Lon, Length, Width]"
                    },
                    "metadata": {
                    },
                    "output_type": "display_data"
                }
            ],
            "source": "//get header names\ntornadoes.columnNames()"
        },
        {
            "cell_type": "code",
            "execution_count": 0,
            "id": "195420a3-20b8-49b4-95b3-5e39d27b7b61",
            "metadata": {
            },
            "outputs": [
                {
                    "data": {
                        "text/plain": "String: \"tornadoes_2014.csv: 908 rows X 11 cols\""
                    },
                    "metadata": {
                    },
                    "output_type": "display_data"
                }
            ],
            "source": "//displays the row and column counts\ntornadoes.shape()"
        },
        {
            "cell_type": "code",
            "execution_count": 0,
            "id": "44edd014-ca56-412e-9072-01e168adcc91",
            "metadata": {
            },
            "outputs": [
                {
                    "data": {
                        "text/plain": "Table:                                                            tornadoes_2014.csv                                                            \n    Date     |    Time    |  State  |  State No  |  Scale  |  Injuries  |  Fatalities  |  Start Lat  |  Start Lon  |  Length  |  Width  |\n-----------------------------------------------------------------------------------------------------------------------------------------\n 2014-01-11  |  06:37:00  |     GA  |         0  |      0  |         0  |           0  |    34,3328  |   -84,5286  |     2,9  |     10  |\n 2014-01-11  |  14:32:00  |     VA  |         0  |      0  |         0  |           0  |     37,025  |   -76,6377  |    1,36  |    100  |\n 2014-01-11  |  14:32:00  |     VA  |         0  |      0  |         0  |           0  |    36,8769  |   -76,6721  |    1,95  |     50  |\n 2014-01-11  |  14:50:00  |     VA  |         0  |      0  |         0  |           0  |      37,08  |      -76,3  |    1,08  |     75  |\n 2014-02-20  |  14:25:00  |     IL  |         0  |      2  |         1  |           0  |     39,518  |    -90,841  |   12,09  |     80  |\n 2014-02-20  |  14:48:00  |     IL  |         0  |      0  |         0  |           0  |    39,7853  |   -90,4215  |    0,27  |     25  |\n 2014-02-20  |  14:52:00  |     IL  |         0  |      0  |         0  |           0  |    39,8193  |   -90,4178  |    8,17  |     50  |\n 2014-02-20  |  15:43:00  |     IL  |         0  |      0  |         0  |           0  |    39,5671  |   -89,6256  |    0,22  |     75  |\n 2014-02-20  |  15:57:00  |     IL  |         0  |      1  |         0  |           0  |    38,7575  |   -89,6151  |   20,56  |    300  |\n 2014-02-20  |  16:09:00  |     IL  |         0  |      2  |         1  |           0  |    39,2586  |    -89,234  |   22,38  |    200  |"
                    },
                    "metadata": {
                    },
                    "output_type": "display_data"
                }
            ],
            "source": "//displays the first n rows\ntornadoes.first(10)"
        },
        {
            "cell_type": "code",
            "execution_count": 0,
            "id": "6a8cfb68-8214-4e01-bd52-9516d9a9bb2d",
            "metadata": {
            },
            "outputs": [
                {
                    "data": {
                        "text/plain": "Table:      Structure of tornadoes_2014.csv     \n Index  |  Column Name  |  Column Type  |\n-----------------------------------------\n     0  |         Date  |   LOCAL_DATE  |\n     1  |         Time  |   LOCAL_TIME  |\n     2  |        State  |       STRING  |\n     3  |     State No  |      INTEGER  |\n     4  |        Scale  |      INTEGER  |\n     5  |     Injuries  |      INTEGER  |\n     6  |   Fatalities  |      INTEGER  |\n     7  |    Start Lat  |       DOUBLE  |\n     8  |    Start Lon  |       DOUBLE  |\n     9  |       Length  |       DOUBLE  |\n    10  |        Width  |      INTEGER  |"
                    },
                    "metadata": {
                    },
                    "output_type": "display_data"
                }
            ],
            "source": "tornadoes.structure()"
        },
        {
            "cell_type": "code",
            "execution_count": 0,
            "id": "02109d17-ebdd-496c-a922-1c3e340dba15",
            "metadata": {
            },
            "outputs": [
                {
                    "data": {
                        "text/plain": "Table:                                                                                                       tornadoes_2014.csv                                                                                                       \n  Summary   |     Date     |  Time   |  State  |  State No  |        Scale         |       Injuries       |      Fatalities       |      Start Lat       |      Start Lon       |        Length        |        Width         |\n-------------------------------------------------------------------------------------------------------------------------------------------------------------------------------------------------------------------------------\n     Count  |         908  |    908  |    908  |       908  |                 908  |                 908  |                  908  |                 908  |                 908  |                 908  |                 908  |\n   Missing  |           0  |      0  |         |            |                      |                      |                       |                      |                      |                      |                      |\n  Earliest  |  2014-01-11  |  00:01  |         |            |                      |                      |                       |                      |                      |                      |                      |\n    Latest  |  2014-12-29  |  23:59  |         |            |                      |                      |                       |                      |                      |                      |                      |\n    Unique  |              |         |     43  |            |                      |                      |                       |                      |                      |                      |                      |\n       Top  |              |         |     NE  |            |                      |                      |                       |                      |                      |                      |                      |\n Top Freq.  |              |         |     62  |            |                      |                      |                       |                      |                      |                      |                      |\n       sum  |              |         |         |         0  |                 567  |                 684  |                   48  |   34690,98260000002  |  -83613,02509999996  |  3014,4899999999984  |              149778  |\n      Mean  |              |         |         |         0  |  0,6244493392070485  |  0,7533039647577101  |  0,05286343612334797  |   38,20592797356829  |   -92,0848294052863  |  3,3199229074889853  |  164,95374449339195  |\n       Min  |              |         |         |         0  |                   0  |                   0  |                    0  |                   0  |            -122,946  |                   0  |                   0  |\n       Max  |              |         |         |         0  |                   4  |                 193  |                   16  |               48,86  |                   0  |               45,68  |                2640  |\n     Range  |              |         |         |         0  |                   4  |                 193  |                   16  |               48,86  |             122,946  |               45,68  |                2640  |\n  Variance  |              |         |         |         0  |   0,627273676592727  |  57,681080582255504  |   0,4426268523330529  |  22,448586253571573  |   91,84773473039117  |   28,73656636670735  |  57764,463128190386  |\n  Std. Dev  |              |         |         |         0  |  0,7920061089364949  |    7,59480615830684  |   0,6653020760023621  |   4,737993906029383  |   9,583722383833495  |   5,360649808251547  |  240,34238728986276  |"
                    },
                    "metadata": {
                    },
                    "output_type": "display_data"
                }
            ],
            "source": "//summarize the data in each column\ntornadoes.summary()"
        },
        {
            "cell_type": "code",
            "execution_count": 0,
            "id": "f8b0ff74-1f16-48b0-b04a-4ec725abc2e3",
            "metadata": {
            },
            "outputs": [
                {
                    "data": {
                        "text/plain": "java.util.List<String>: [Date, Time, State, State No, Scale, Injuries, Fatalities, Start Lat, Start Lon, Length, Width, Date month]"
                    },
                    "metadata": {
                    },
                    "output_type": "display_data"
                }
            ],
            "source": "//Mapping operations\nvar month = tornadoes.dateColumn(\"Date\").month();\ntornadoes.addColumns(month);\ntornadoes.columnNames();"
        },
        {
            "cell_type": "code",
            "execution_count": 0,
            "id": "b8e9213f-d852-43a7-ab8c-f733acb4c950",
            "metadata": {
            },
            "outputs": [
                {
                    "data": {
                        "text/plain": "Table:                                                                    tornadoes_2014.csv                                                                   \n    Date     |    Time    |  State  |  State No  |  Scale  |  Injuries  |  Fatalities  |  Start Lat  |  Start Lon  |  Length  |  Width  |  Date month  |\n--------------------------------------------------------------------------------------------------------------------------------------------------------\n 2014-04-27  |  18:06:00  |     AR  |         0  |      4  |       193  |          16  |    34,7787  |    -92,652  |    41,1  |   1320  |       APRIL  |\n 2014-04-28  |  14:51:00  |     MS  |         0  |      4  |        84  |          10  |      32,88  |     -89,43  |   33,39  |   1320  |       APRIL  |\n 2014-07-08  |  17:02:00  |     NY  |         0  |      2  |         0  |           4  |      42,99  |     -75,64  |     2,5  |    235  |        JULY  |\n 2014-12-23  |  14:20:00  |     MS  |         0  |      3  |        50  |           3  |    31,2273  |   -89,8331  |   12,51  |    880  |    DECEMBER  |\n 2014-04-27  |  14:20:00  |     IA  |         0  |      1  |         0  |           2  |    41,1325  |   -92,3117  |   45,68  |   1600  |       APRIL  |\n 2014-12-23  |  15:22:00  |     MS  |         0  |      2  |         0  |           2  |    31,6986  |   -89,2239  |    5,89  |    350  |    DECEMBER  |\n 2014-04-28  |  15:47:00  |     AL  |         0  |      3  |        30  |           2  |    34,7753  |   -87,2324  |   15,56  |    600  |       APRIL  |\n 2014-04-28  |  19:09:00  |     TN  |         0  |      3  |         0  |           2  |    35,0066  |   -86,5497  |   26,76  |    500  |       APRIL  |\n 2014-04-25  |  17:20:00  |     NC  |         0  |      2  |         1  |           1  |     36,054  |     -76,74  |   37,48  |    400  |       APRIL  |\n 2014-10-13  |  04:37:00  |     AR  |         0  |      2  |         4  |           1  |    33,6617  |   -94,2303  |    2,51  |    400  |     OCTOBER  |\n        ...  |       ...  |    ...  |       ...  |    ...  |       ...  |         ...  |        ...  |        ...  |     ...  |    ...  |         ...  |\n 2014-02-20  |  14:48:00  |     IL  |         0  |      0  |         0  |           0  |    39,7853  |   -90,4215  |    0,27  |     25  |    FEBRUARY  |\n 2014-02-20  |  14:52:00  |     IL  |         0  |      0  |         0  |           0  |    39,8193  |   -90,4178  |    8,17  |     50  |    FEBRUARY  |\n 2014-02-20  |  15:43:00  |     IL  |         0  |      0  |         0  |           0  |    39,5671  |   -89,6256  |    0,22  |     75  |    FEBRUARY  |\n 2014-02-20  |  15:57:00  |     IL  |         0  |      1  |         0  |           0  |    38,7575  |   -89,6151  |   20,56  |    300  |    FEBRUARY  |\n 2014-02-20  |  16:09:00  |     IL  |         0  |      2  |         1  |           0  |    39,2586  |    -89,234  |   22,38  |    200  |    FEBRUARY  |\n 2014-02-20  |  16:36:00  |     IL  |         0  |      1  |         0  |           0  |    39,0158  |    -88,998  |     4,8  |     50  |    FEBRUARY  |\n 2014-02-20  |  16:39:00  |     MO  |         0  |      1  |         5  |           0  |    36,1895  |   -89,8812  |    0,24  |     70  |    FEBRUARY  |\n 2014-02-20  |  16:40:00  |     IL  |         0  |      1  |         0  |           0  |    37,6987  |   -89,3713  |    0,39  |     50  |    FEBRUARY  |\n 2014-02-20  |  16:40:00  |     IL  |         0  |      0  |         0  |           0  |    39,5176  |   -88,8109  |    0,28  |     50  |    FEBRUARY  |\n 2014-02-20  |  16:41:00  |     MO  |         0  |      1  |         0  |           0  |    36,2349  |   -89,8029  |    0,04  |     25  |    FEBRUARY  |"
                    },
                    "metadata": {
                    },
                    "output_type": "display_data"
                }
            ],
            "source": "//Sorting by column\ntornadoes.sortOn(\"-Fatalities\")"
        },
        {
            "cell_type": "code",
            "execution_count": 0,
            "id": "b0c7347a-5bff-4bfd-b7de-97d50ab671ad",
            "metadata": {
            },
            "outputs": [
                {
                    "data": {
                        "text/plain": "Table:          Column: Fatalities         \n Measure   |         Value         |\n------------------------------------\n    Count  |                  908  |\n      sum  |                   48  |\n     Mean  |  0,05286343612334797  |\n      Min  |                    0  |\n      Max  |                   16  |\n    Range  |                   16  |\n Variance  |   0,4426268523330529  |\n Std. Dev  |   0,6653020760023621  |"
                    },
                    "metadata": {
                    },
                    "output_type": "display_data"
                }
            ],
            "source": "//Descriptive statistics\ntornadoes.column(\"Fatalities\").summary()"
        },
        {
            "cell_type": "code",
            "execution_count": 0,
            "id": "6b41a9b6-6bed-468b-9575-62017990764d",
            "metadata": {
            },
            "outputs": [
                {
                    "data": {
                        "text/plain": "Table: Median injuries by Tornado Scale\n Scale  |  Median [Injuries]  |\n-------------------------------\n     0  |                  0  |\n     2  |                  0  |\n     1  |                  0  |\n     3  |                  0  |\n     4  |                  2  |"
                    },
                    "metadata": {
                    },
                    "output_type": "display_data"
                }
            ],
            "source": "//Performing totals and sub-totals\nvar injuriesByScale = tornadoes.summarize(\"Injuries\", median).by(\"Scale\");\ninjuriesByScale.setName(\"Median injuries by Tornado Scale\");\ninjuriesByScale"
        },
        {
            "cell_type": "code",
            "execution_count": 0,
            "id": "2bef2871-f520-496b-ad40-a0e5cde041c0",
            "metadata": {
            },
            "outputs": [
                {
                    "data": {
                        "text/plain": "Table:                 Crosstab Counts: State x Scale                \n [labels]  |   0   |   1   |   2   |   3   |   4   |  total  |\n--------------------------------------------------------------\n       AL  |   12  |   32  |    7  |    4  |    0  |     55  |\n       AR  |    5  |   12  |    2  |    0  |    1  |     20  |\n       AZ  |    3  |    0  |    0  |    0  |    0  |      3  |\n       CA  |    6  |    3  |    0  |    0  |    0  |      9  |\n       CO  |   41  |    7  |    1  |    0  |    0  |     49  |\n       CT  |    1  |    0  |    0  |    0  |    0  |      1  |\n       DE  |    0  |    1  |    0  |    0  |    0  |      1  |\n       FL  |   23  |    4  |    1  |    0  |    0  |     28  |\n       GA  |   13  |   16  |    3  |    0  |    0  |     32  |\n       IA  |   31  |   22  |    3  |    0  |    0  |     56  |\n      ...  |  ...  |  ...  |  ...  |  ...  |  ...  |    ...  |\n       SC  |    7  |    0  |    0  |    0  |    0  |      7  |\n       SD  |   18  |    6  |    4  |    0  |    1  |     29  |\n       TN  |    3  |   10  |    3  |    2  |    0  |     18  |\n       TX  |   35  |    9  |    2  |    0  |    0  |     46  |\n       VA  |   11  |    1  |    0  |    0  |    0  |     12  |\n       WA  |    2  |    1  |    0  |    0  |    0  |      3  |\n       WI  |    6  |   11  |    4  |    1  |    0  |     22  |\n       WV  |    1  |    7  |    1  |    0  |    0  |      9  |\n       WY  |   10  |    2  |    1  |    0  |    0  |     13  |\n    Total  |  478  |  327  |   76  |   20  |    7  |    908  |"
                    },
                    "metadata": {
                    },
                    "output_type": "display_data"
                }
            ],
            "source": "//Cross Tabs\ntornadoes.xTabCounts(\"State\", \"Scale\")"
        },
        {
            "cell_type": "markdown",
            "id": "50bd657c-1e80-42ed-875d-10dbf2eae4cb",
            "metadata": {
            },
            "source": "## K-means clustering\n\nK-means is the most common form of “centroid” clustering. Unlike classification, clustering is an unsupervised learning method. The categories are not predetermined. Instead, the goal is to search for natural groupings in the dataset, such that the members of each group are similar to each other and different from the members of the other groups. The K represents the number of groups to find.\n\nWe’ll use a well known Scotch Whiskey dataset, which is used to cluster whiskeys according to their taste based on data collected from tasting notes. As always, we start by loading data and printing its structure."
        },
        {
            "cell_type": "code",
            "execution_count": 0,
            "id": "4e09ae40-4844-45a7-912e-04594c8983f2",
            "metadata": {
            },
            "outputs": [
            ],
            "source": "import smile.clustering.*;\nimport smile.data.formula.Formula;\nimport smile.regression.*;\n\nimport java.util.stream.IntStream;\nimport java.util.Arrays;"
        },
        {
            "cell_type": "code",
            "execution_count": 0,
            "id": "da661c5b-dd60-42a9-99cc-d0c41d85f9ca",
            "metadata": {
            },
            "outputs": [
                {
                    "data": {
                        "text/plain": "Table:         Structure of whiskey.csv         \n Index  |  Column Name  |  Column Type  |\n-----------------------------------------\n     0  |        RowID  |      INTEGER  |\n     1  |   Distillery  |       STRING  |\n     2  |         Body  |      INTEGER  |\n     3  |    Sweetness  |      INTEGER  |\n     4  |        Smoky  |      INTEGER  |\n     5  |    Medicinal  |      INTEGER  |\n     6  |      Tobacco  |      INTEGER  |\n     7  |        Honey  |      INTEGER  |\n     8  |        Spicy  |      INTEGER  |\n     9  |        Winey  |      INTEGER  |\n    10  |        Nutty  |      INTEGER  |\n    11  |        Malty  |      INTEGER  |\n    12  |       Fruity  |      INTEGER  |\n    13  |       Floral  |      INTEGER  |\n    14  |     Postcode  |       STRING  |\n    15  |     Latitude  |      INTEGER  |\n    16  |    Longitude  |      INTEGER  |"
                    },
                    "metadata": {
                    },
                    "output_type": "display_data"
                }
            ],
            "source": "var whiskeyData = Table.read().csv(\"../examples/jtablesaw/resources/whiskey.csv\");\nwhiskeyData.structure();"
        },
        {
            "cell_type": "code",
            "execution_count": 0,
            "id": "36c6c552-c718-407d-8164-1c8d6ba3ed7e",
            "metadata": {
            },
            "outputs": [
            ],
            "source": "var kMeans = KMeans.fit(whiskeyData.as().doubleMatrix(\"Body\", \"Sweetness\", \"Smoky\", \"Medicinal\", \"Tobacco\", \"Honey\", \"Spicy\", \"Winey\", \"Nutty\", \"Malty\", \"Fruity\", \"Floral\"), 5);"
        },
        {
            "cell_type": "code",
            "execution_count": 0,
            "id": "9626f285-04dd-4b88-9191-810f6386b21d",
            "metadata": {
            },
            "outputs": [
                {
                    "data": {
                        "text/plain": "Table:            Clusters           \n   Distillery    |  Cluster  |\n------------------------------\n      Aberfeldy  |        0  |\n        Ardmore  |        0  |\n       Belvenie  |        0  |\n       BenNevis  |        0  |\n       Benriach  |        0  |\n      Benrinnes  |        0  |\n      Benromach  |        0  |\n     BlairAthol  |        0  |\n  Craigallechie  |        0  |\n        Dalmore  |        0  |\n            ...  |      ...  |\n      Auchroisk  |        4  |\n      Balmenach  |        4  |\n      Dailuaine  |        4  |\n       Edradour  |        4  |\n    Glendronach  |        4  |\n    Glenfarclas  |        4  |\n       Macallan  |        4  |\n       Mortlach  |        4  |\n RoyalLochnagar  |        4  |\n     Strathisla  |        4  |"
                    },
                    "metadata": {
                    },
                    "output_type": "display_data"
                }
            ],
            "source": "var whiskeyClusters = Table.create(\"Clusters\", whiskeyData.stringColumn(\"Distillery\"), DoubleColumn.create(\"Cluster\", kMeans.y));\nwhiskeyClusters = whiskeyClusters.sortAscendingOn(\"Cluster\", \"Distillery\");"
        },
        {
            "cell_type": "markdown",
            "id": "102c406e-ef42-4915-b888-8da38a63b152",
            "metadata": {
            },
            "source": "## Play (Money)ball with Linear Regression\n\nIn baseball, you make the playoffs by winning more games than your rivals. The number of games the rivals win is out of your control so the A’s looked instead at how many wins it took historically to make the playoffs. They decided that 95 wins would give them a strong chance.  Here’s how we might check that assumption in Tablesaw."
        },
        {
            "cell_type": "code",
            "execution_count": 0,
            "id": "569d3511-19af-4102-9315-c3ffcf994d09",
            "metadata": {
            },
            "outputs": [
            ],
            "source": "var baseball = Table.read().csv(\"../examples/jtablesaw/resources/baseball.csv\");\n\n// filter to the data available at the start of the 2002 season\nvar moneyball = baseball.where(baseball.numberColumn(\"year\").isLessThan(2002));\nvar wins = moneyball.nCol(\"W\");\nvar year = moneyball.nCol(\"Year\");\nvar playoffs = moneyball.column(\"Playoffs\");\nvar runDifference = moneyball.numberColumn(\"RS\").subtract(moneyball.numberColumn(\"RA\")).setName(\"RD\");\nmoneyball.addColumns(runDifference);\n\nvar x = moneyball.numberColumn(\"RD\").asDoubleArray();\nvar y = moneyball.numberColumn(\"W\").asDoubleArray();\nvar xMin = Arrays.stream(x).min().getAsDouble();\nvar xMax = Arrays.stream(x).max().getAsDouble();\nvar yMin = Arrays.stream(y).min().getAsDouble();\nvar yMax = Arrays.stream(y).max().getAsDouble();\n\n// ScatterChart\nvar AXIS_WIDTH     = 25d;\nvar data = IntStream.range(0,Math.min(x.length, y.length)).mapToObj(i -> new XYChartItem(x[i], y[i])).toList();\nvar series = XYSeriesBuilder.create()\n                                   .items(data)\n                                   .chartType(ChartType.SCATTER)\n                                   .fill(Color.TRANSPARENT)\n                                   .stroke(Color.MAGENTA)\n                                   .symbolFill(Color.RED)\n                                   .symbolStroke(Color.TRANSPARENT)\n                                   .symbolsVisible(true)\n                                   .build();\nvar scatterChartXAxisBottom = Helper.createAxis(xMin, xMax, true, AXIS_WIDTH, Orientation.HORIZONTAL, Position.BOTTOM);\nvar scatterChartXAxisTop = Helper.createAxis(xMin, xMax, true, AXIS_WIDTH, Orientation.HORIZONTAL, Position.TOP);\nvar scatterChartXAxisCenter = Helper.createCenterXAxis(xMin, xMax, true, AXIS_WIDTH);\nvar scatterChartYAxisLeft   = Helper.createAxis(yMin, yMax, true, AXIS_WIDTH, Orientation.VERTICAL, Position.LEFT);\nvar scatterChartYAxisCenter = Helper.createCenterYAxis(yMin, yMax, true, AXIS_WIDTH);\nvar scatterChart            = new XYChart<>(new XYPane(series), scatterChartYAxisCenter, scatterChartXAxisTop, scatterChartXAxisBottom);\nscatterChartXAxisCenter.setAxisColor(Color.CRIMSON);\nscatterChartXAxisTop.setAxisColor(Color.CRIMSON);\nscatterChartXAxisBottom.setAxisColor(Color.CRIMSON);\nscatterChartYAxisCenter.setAxisColor(Color.CRIMSON);"
        },
        {
            "cell_type": "code",
            "execution_count": 0,
            "id": "9df277a6-1aa0-4bff-ba8f-3a90d5ea1be7",
            "metadata": {
            },
            "outputs": [
            ],
            "source": "display(scatterChart);"
        },
        {
            "cell_type": "code",
            "execution_count": 0,
            "id": "374cef12-58b5-41f5-b017-ef721091579d",
            "metadata": {
            },
            "outputs": [
            ],
            "source": "var winsModel = OLS.fit(Formula.lhs(\"RD\"), moneyball.select(\"W\", \"RD\").smile().toDataFrame());"
        },
        {
            "cell_type": "code",
            "execution_count": 0,
            "id": "3522d7e9-c365-4e6c-9af4-df0568a97873",
            "metadata": {
            },
            "outputs": [
            ],
            "source": "var runsScored = OLS.fit(Formula.lhs(\"RS\"), moneyball.select(\"OBP\", \"SLG\", \"RS\").smile().toDataFrame());"
        },
        {
            "cell_type": "code",
            "execution_count": 0,
            "id": "7544773c-098f-447e-9534-f6b003152012",
            "metadata": {
            },
            "outputs": [
            ],
            "source": "new Histogram(xLabel:\"X\",\n              yLabel:\"Proportion\",\n              data: Arrays.asList(runsScored.residuals()),\n              binCount: 25);"
        },
        {
            "cell_type": "markdown",
            "id": "a8dc3131-d598-46fa-8026-9f5ad4040a5d",
            "metadata": {
            },
            "source": "## Financial and Economic Data\n\nYou can fetch data from [Quandl](https://www.quandl.com/) and load it directly into Tablesaw"
        },
        {
            "cell_type": "code",
            "execution_count": 0,
            "id": "674e2567-570a-4a72-a624-7ff0a2f1e6db",
            "metadata": {
            },
            "outputs": [
                {
                    "data": {
                        "image/png": "[encoded data removed]"
                    },
                    "metadata": {
                    },
                    "output_type": "display_data"
                }
            ],
            "source": "addDependency(\"com.jimmoores:quandl-tablesaw:2.1.0\");"
        },
        {
            "cell_type": "code",
            "execution_count": 0,
            "id": "3d4eee2f-b1d7-4d8d-a262-863470b76a18",
            "metadata": {
            },
            "outputs": [
            ],
            "source": "import com.jimmoores.quandl.DataSetRequest;\nimport com.jimmoores.quandl.tablesaw.*;"
        },
        {
            "cell_type": "code",
            "execution_count": 0,
            "id": "50febb25-cc91-4a1c-9193-55b3b474b238",
            "metadata": {
            },
            "outputs": [
                {
                    "data": {
                        "text/plain": "DataSetRequest: DataSetRequest[quandlCode=WIKI/AAPL, startDate=null, endDate=null, columnIndex=null, frequency=null, maxRows=null, transform=null, sortOrder=null]"
                    },
                    "metadata": {
                    },
                    "output_type": "display_data"
                }
            ],
            "source": "var session = TableSawQuandlSession.create();\nvar req = DataSetRequest.Builder.of(\"WIKI/AAPL\").build();\nreq"
        },
        {
            "cell_type": "code",
            "execution_count": 0,
            "id": "b95fde28-b401-4442-8f8d-071f9b8f6a82",
            "metadata": {
            },
            "outputs": [
                {
                    "data": {
                        "text/plain": "Table:                                                                                                   WIKI/AAPL                                                                                                   \n    Date     |   Open   |   High   |    Low     |   Close   |   Volume   |  Ex-Dividend  |  Split Ratio  |     Adj. Open      |     Adj. High      |      Adj. Low      |     Adj. Close     |  Adj. Volume  |\n--------------------------------------------------------------------------------------------------------------------------------------------------------------------------------------------------------------\n 2018-03-27  |  173,68  |  175,15  |    166,92  |   168,34  |  38962839  |            0  |            1  |            173,68  |            175,15  |            166,92  |            168,34  |     38962839  |\n 2018-03-26  |  168,07  |   173,1  |    166,44  |   172,77  |  36272617  |            0  |            1  |            168,07  |             173,1  |            166,44  |            172,77  |     36272617  |\n 2018-03-23  |  168,39  |  169,92  |    164,94  |   164,94  |  40248954  |            0  |            1  |            168,39  |            169,92  |            164,94  |            164,94  |     40248954  |\n 2018-03-22  |     170  |  172,68  |     168,6  |  168,845  |  41051076  |            0  |            1  |               170  |            172,68  |             168,6  |           168,845  |     41051076  |\n 2018-03-21  |  175,04  |  175,09  |    171,26  |   171,27  |  35247358  |            0  |            1  |            175,04  |            175,09  |            171,26  |            171,27  |     35247358  |\n 2018-03-20  |  175,24  |   176,8  |    174,94  |   175,24  |  19314039  |            0  |            1  |            175,24  |             176,8  |            174,94  |            175,24  |     19314039  |\n 2018-03-19  |  177,32  |  177,47  |    173,66  |    175,3  |  32804695  |            0  |            1  |            177,32  |            177,47  |            173,66  |             175,3  |     32804695  |\n 2018-03-16  |  178,65  |  179,12  |    177,62  |   178,02  |  36836456  |            0  |            1  |            178,65  |            179,12  |            177,62  |            178,02  |     36836456  |\n 2018-03-15  |   178,5  |  180,24  |  178,0701  |   178,65  |  22584565  |            0  |            1  |             178,5  |            180,24  |          178,0701  |            178,65  |     22584565  |\n 2018-03-14  |  180,32  |  180,52  |    177,81  |   178,44  |  29075469  |            0  |            1  |            180,32  |            180,52  |            177,81  |            178,44  |     29075469  |\n        ...  |     ...  |     ...  |       ...  |      ...  |       ...  |          ...  |          ...  |               ...  |               ...  |               ...  |               ...  |          ...  |\n 1980-12-26  |    35,5  |   35,62  |      35,5  |     35,5  |    248100  |            0  |            1  |  0,52194991352162  |  0,52371425125746  |  0,52194991352162  |  0,52194991352162  |     13893600  |\n 1980-12-24  |    32,5  |   32,63  |      32,5  |     32,5  |    214300  |            0  |            1  |  0,47784147012542  |  0,47975283600592  |  0,47784147012542  |  0,47784147012542  |     12000800  |\n 1980-12-23  |   30,88  |      31  |     30,88  |    30,88  |    209600  |            0  |            1  |  0,45402291069148  |  0,45578724842733  |  0,45402291069148  |  0,45402291069148  |     11737600  |\n 1980-12-22  |   29,63  |   29,75  |     29,63  |    29,63  |    166800  |            0  |            1  |  0,43564439260973  |  0,43740873034558  |  0,43564439260973  |  0,43564439260973  |      9340800  |\n 1980-12-19  |   28,25  |   28,38  |     28,25  |    28,25  |    217100  |            0  |            1  |  0,41535450864748  |  0,41726587452798  |  0,41535450864748  |  0,41535450864748  |     12157600  |\n 1980-12-18  |   26,63  |   26,75  |     26,63  |    26,63  |    327900  |            0  |            1  |  0,39153594921354  |  0,39330028694939  |  0,39153594921354  |  0,39153594921354  |     18362400  |\n 1980-12-17  |   25,87  |      26  |     25,87  |    25,87  |    385900  |            0  |            1  |  0,38036181021984  |  0,38227317610034  |  0,38036181021984  |  0,38036181021984  |     21610400  |\n 1980-12-16  |   25,37  |   25,37  |     25,25  |    25,25  |    472000  |            0  |            1  |  0,37301040298714  |  0,37301040298714  |  0,37124606525129  |  0,37124606525129  |     26432000  |\n 1980-12-15  |   27,38  |   27,38  |     27,25  |    27,25  |    785200  |            0  |            1  |  0,40256306006259  |  0,40256306006259  |  0,40065169418209  |  0,40065169418209  |     43971200  |\n 1980-12-12  |   28,75  |   28,87  |     28,75  |    28,75  |   2093900  |            0  |            1  |  0,42270591588018  |  0,42447025361603  |  0,42270591588018  |  0,42270591588018  |    117258400  |"
                    },
                    "metadata": {
                    },
                    "output_type": "display_data"
                }
            ],
            "source": "var table = session.getDataSet(req);\ntable"
        },
        {
            "cell_type": "code",
            "execution_count": 0,
            "id": "07d1ca1d-4d23-41b1-88dc-40b55c4f2ea9",
            "metadata": {
            },
            "outputs": [
                {
                    "data": {
                        "text/plain": "Table:                                      Summary                                      \n Year  |  Max [Adj. Close]  |  Min [Adj. Close]  |  Sum [Volume]  |   YearDate   |\n----------------------------------------------------------------------------------\n 2018  |            181,72  |            155,32  |    2148943750  |  2018-01-01  |\n 2017  |            176,42  |   114,58698349145  |    6640746824  |  2017-01-01  |\n 2016  |   116,18645077821  |   88,288160692023  |    9685871785  |  2016-01-01  |\n 2015  |   126,93172389435  |   99,202644353779  |   13064316775  |  2015-01-01  |\n 2014  |    113,0504976823  |   66,432273669319  |    8734011985  |  2014-01-01  |\n 2013  |   75,777788908248  |   50,928799926548  |    3657913200  |  2013-01-01  |\n 2012  |   90,614841002647  |   52,848786580038  |    4713007300  |  2012-01-01  |\n 2011  |   54,263725033571  |   40,523014819973  |    4430690700  |  2011-01-01  |\n 2010  |   41,827431287126  |   24,681101725789  |    5393747400  |  2010-01-01  |\n 2009  |   27,198689764364  |   10,049789924273  |    5116203100  |  2009-01-01  |\n  ...  |               ...  |               ...  |           ...  |         ...  |\n 1989  |   1,4825284055124  |   1,0059801968659  |     454516300  |  1989-01-01  |\n 1988  |   1,3980150810192  |   1,0739979865072  |     368687300  |  1988-01-01  |\n 1987  |   1,7422835141496  |  0,60105105534546  |     384217100  |  1987-01-01  |\n 1986  |  0,64324813286115  |   0,3252262559746  |     238050100  |  1986-01-01  |\n 1985  |  0,45020017893048  |  0,21319080974827  |     203094971  |  1985-01-01  |\n 1984  |  0,48886858097447  |  0,32155055235825  |     187406400  |  1984-01-01  |\n 1983  |   0,9226016077037  |  0,26288632264131  |     186074400  |  1983-01-01  |\n 1982  |  0,49798432594302  |  0,16173095911937  |      95379500  |  1982-01-01  |\n 1981  |  0,50724709905622  |  0,20951510613192  |      36593500  |  1981-01-01  |\n 1980  |  0,52930132075432  |  0,37124606525129  |       6003800  |  1980-01-01  |"
                    },
                    "metadata": {
                    },
                    "output_type": "display_data"
                }
            ],
            "source": "// Create a new column containing the year\nvar yearColumn = table.dateColumn(\"Date\").year();\nyearColumn.setName(\"Year\");\ntable.addColumns(yearColumn);\n// Create max, min and total volume tables aggregated by year\nvar summaryMax = table.summarize(\"Adj. Close\", max).by(\"year\");\nvar summaryMin = table.summarize(\"Adj. Close\", min).by(\"year\");\nvar summaryVolume = table.summarize(\"Volume\", sum).by(\"year\");\n// Create a new table from each of these\nvar summary = Table.create(\"Summary\", summaryMax.column(0), summaryMax.column(1), \n                       summaryMin.column(1), summaryVolume.column(1));\n// Add back a DateColumn to the summary...will be used for plotting\nvar yearDates = DateColumn.create(\"YearDate\");\nfor (var year : summary.column(\"Year\")) {\n    yearDates.append(java.time.LocalDate.of((int) year, 1, 1));\n}\nsummary.addColumns(yearDates);\n\nsummary"
        },
        {
            "cell_type": "code",
            "execution_count": 0,
            "id": "2dd09385-422a-4c48-a6c9-b8e2449468f9",
            "metadata": {
            },
            "outputs": [
            ],
            "source": "var years = summary.column('YearDate').collect()\n\nplot = new TimePlot(title: 'Price Chart for AAPL', xLabel: 'Time', yLabel: 'Max [Adj. Close]')\nplot << new YAxis(label: 'Volume')\nplot << new Points(x: years, y: summary.column('Max [Adj. Close]').collect())\nplot << new Line(x: years, y: summary.column('Max [Adj. Close]').collect(), color: Color.blue)\nplot << new Stems(x: years, y: summary.column('Sum [Volume]').collect(), yAxis: 'Volume')"
        }
    ],
    "metadata": {
        "language_info": {
            "version": "21",
            "name": "Java"
        },
        "kernel_info": {
            "version": "0.1",
            "name": "JTaccuino"
        }
    },
    "nbformat": 4,
    "nbformat_minor": 5
}