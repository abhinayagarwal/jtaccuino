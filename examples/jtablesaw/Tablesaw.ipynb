{
    "cells": [
        {
            "cell_type": "markdown",
            "id": "85059791-7793-4084-8811-bb4f4192d9ba",
            "metadata": {
            },
            "outputs": [
            ],
            "source": "# Tablesaw \n\n[Tablesaw](https://tablesaw.tech/) provides the ability to easily transform, summarize, and filter data, as well as computing descriptive statistics. It can also be used easily with libraries like Smile, which provides fundamental machine learning algorithms.\n\nThis notebook has some basic demos of how to use Tablesaw, including visualizing the results for which it uses the BeakerX interactive visualization APIs. Tablesaw also provides its own visualization APIs if you wish to do visualization outside of BeakerX. The notebook covers basic table manipulation, k-means clustering, linear regression, and fetching financial data."
        },
        {
            "cell_type": "code",
            "id": "6445b9a9-e4ea-411a-9626-304e5e6a8ea8",
            "metadata": {
            },
            "outputs": [
            ],
            "source": "addDependency(\"tech.tablesaw:tablesaw-core:0.43.1\");\naddDependency(\"eu.hansolo.fx:charts:17.1.51\");\naddDependency(\"com.github.haifengl:smile-core:2.0.0\");"
        },
        {
            "cell_type": "code",
            "id": "0484a452-940e-4825-b1be-0845af7f7d76",
            "metadata": {
            },
            "outputs": [
            ],
            "source": "import static tech.tablesaw.aggregate.AggregateFunctions.*;\nimport tech.tablesaw.api.*;\nimport tech.tablesaw.columns.*;\n\n// javafx imports\nimport javafx.scene.paint.Color;\nimport javafx.geometry.Orientation;\n\n// chart imports\nimport eu.hansolo.fx.charts.ChartType;\nimport eu.hansolo.fx.charts.Position;\nimport eu.hansolo.fx.charts.XYChart;\nimport eu.hansolo.fx.charts.XYPane;\nimport eu.hansolo.fx.charts.data.XYChartItem;\nimport eu.hansolo.fx.charts.tools.Helper;\nimport eu.hansolo.fx.charts.series.XYSeriesBuilder;\n"
        },
        {
            "cell_type": "code",
            "id": "bda37c3a-ce91-40a9-ba7a-e8fe73864e96",
            "metadata": {
            },
            "outputs": [
            ],
            "source": "var tornadoes = Table.read().csv(\"../examples/jtablesaw/resources/tornadoes_2014.csv\");"
        },
        {
            "cell_type": "code",
            "id": "c0cf0c16-f8d1-472c-8cc2-c302403e6306",
            "metadata": {
            },
            "outputs": [
            ],
            "source": "tornadoes.structure()"
        },
        {
            "cell_type": "code",
            "id": "fa26fad2-6e01-47f0-9e88-6c996d2b840c",
            "metadata": {
            },
            "outputs": [
            ],
            "source": "//get header names\ntornadoes.columnNames()"
        },
        {
            "cell_type": "code",
            "id": "195420a3-20b8-49b4-95b3-5e39d27b7b61",
            "metadata": {
            },
            "outputs": [
            ],
            "source": "//displays the row and column counts\ntornadoes.shape()"
        },
        {
            "cell_type": "code",
            "id": "44edd014-ca56-412e-9072-01e168adcc91",
            "metadata": {
            },
            "outputs": [
            ],
            "source": "//displays the first n rows\ntornadoes.first(10)"
        },
        {
            "cell_type": "code",
            "id": "6a8cfb68-8214-4e01-bd52-9516d9a9bb2d",
            "metadata": {
            },
            "outputs": [
            ],
            "source": "tornadoes.structure()"
        },
        {
            "cell_type": "code",
            "id": "02109d17-ebdd-496c-a922-1c3e340dba15",
            "metadata": {
            },
            "outputs": [
            ],
            "source": "//summarize the data in each column\ntornadoes.summary()"
        },
        {
            "cell_type": "code",
            "id": "f8b0ff74-1f16-48b0-b04a-4ec725abc2e3",
            "metadata": {
            },
            "outputs": [
            ],
            "source": "//Mapping operations\nvar month = tornadoes.dateColumn(\"Date\").month();\ntornadoes.addColumns(month);\ntornadoes.columnNames();"
        },
        {
            "cell_type": "code",
            "id": "b8e9213f-d852-43a7-ab8c-f733acb4c950",
            "metadata": {
            },
            "outputs": [
            ],
            "source": "//Sorting by column\ntornadoes.sortOn(\"-Fatalities\")"
        },
        {
            "cell_type": "code",
            "id": "b0c7347a-5bff-4bfd-b7de-97d50ab671ad",
            "metadata": {
            },
            "outputs": [
            ],
            "source": "//Descriptive statistics\ntornadoes.column(\"Fatalities\").summary()"
        },
        {
            "cell_type": "code",
            "id": "6b41a9b6-6bed-468b-9575-62017990764d",
            "metadata": {
            },
            "outputs": [
            ],
            "source": "//Performing totals and sub-totals\nvar injuriesByScale = tornadoes.summarize(\"Injuries\", median).by(\"Scale\");\ninjuriesByScale.setName(\"Median injuries by Tornado Scale\");\ninjuriesByScale"
        },
        {
            "cell_type": "code",
            "id": "2bef2871-f520-496b-ad40-a0e5cde041c0",
            "metadata": {
            },
            "outputs": [
            ],
            "source": "//Cross Tabs\ntornadoes.xTabCounts(\"State\", \"Scale\")"
        },
        {
            "cell_type": "markdown",
            "id": "50bd657c-1e80-42ed-875d-10dbf2eae4cb",
            "metadata": {
            },
            "outputs": [
            ],
            "source": "## K-means clustering\n\nK-means is the most common form of “centroid” clustering. Unlike classification, clustering is an unsupervised learning method. The categories are not predetermined. Instead, the goal is to search for natural groupings in the dataset, such that the members of each group are similar to each other and different from the members of the other groups. The K represents the number of groups to find.\n\nWe’ll use a well known Scotch Whiskey dataset, which is used to cluster whiskeys according to their taste based on data collected from tasting notes. As always, we start by loading data and printing its structure."
        },
        {
            "cell_type": "code",
            "id": "4e09ae40-4844-45a7-912e-04594c8983f2",
            "metadata": {
            },
            "outputs": [
            ],
            "source": "import smile.clustering.*;\nimport smile.data.formula.Formula;\nimport smile.regression.*;\n\nimport java.util.stream.IntStream;\nimport java.util.Arrays;"
        },
        {
            "cell_type": "code",
            "id": "da661c5b-dd60-42a9-99cc-d0c41d85f9ca",
            "metadata": {
            },
            "outputs": [
            ],
            "source": "var whiskeyData = Table.read().csv(\"../examples/jtablesaw/resources/whiskey.csv\");\nwhiskeyData.structure();"
        },
        {
            "cell_type": "code",
            "id": "36c6c552-c718-407d-8164-1c8d6ba3ed7e",
            "metadata": {
            },
            "outputs": [
            ],
            "source": "var kMeans = KMeans.fit(whiskeyData.as().doubleMatrix(\"Body\", \"Sweetness\", \"Smoky\", \"Medicinal\", \"Tobacco\", \"Honey\", \"Spicy\", \"Winey\", \"Nutty\", \"Malty\", \"Fruity\", \"Floral\"), 5);"
        },
        {
            "cell_type": "code",
            "id": "9626f285-04dd-4b88-9191-810f6386b21d",
            "metadata": {
            },
            "outputs": [
            ],
            "source": "var whiskeyClusters = Table.create(\"Clusters\", whiskeyData.stringColumn(\"Distillery\"), DoubleColumn.create(\"Cluster\", kMeans.y));\nwhiskeyClusters = whiskeyClusters.sortAscendingOn(\"Cluster\", \"Distillery\");"
        },
        {
            "cell_type": "markdown",
            "id": "102c406e-ef42-4915-b888-8da38a63b152",
            "metadata": {
            },
            "outputs": [
            ],
            "source": "## Play (Money)ball with Linear Regression\n\nIn baseball, you make the playoffs by winning more games than your rivals. The number of games the rivals win is out of your control so the A’s looked instead at how many wins it took historically to make the playoffs. They decided that 95 wins would give them a strong chance.  Here’s how we might check that assumption in Tablesaw."
        },
        {
            "cell_type": "code",
            "id": "569d3511-19af-4102-9315-c3ffcf994d09",
            "metadata": {
            },
            "outputs": [
            ],
            "source": "var baseball = Table.read().csv(\"../examples/jtablesaw/resources/baseball.csv\");\n\n// filter to the data available at the start of the 2002 season\nvar moneyball = baseball.where(baseball.numberColumn(\"year\").isLessThan(2002));\nvar wins = moneyball.nCol(\"W\");\nvar year = moneyball.nCol(\"Year\");\nvar playoffs = moneyball.column(\"Playoffs\");\nvar runDifference = moneyball.numberColumn(\"RS\").subtract(moneyball.numberColumn(\"RA\")).setName(\"RD\");\nmoneyball.addColumns(runDifference);\n\nvar x = moneyball.numberColumn(\"RD\").asDoubleArray();\nvar y = moneyball.numberColumn(\"W\").asDoubleArray();\nvar xMin = Arrays.stream(x).min().getAsDouble();\nvar xMax = Arrays.stream(x).max().getAsDouble();\nvar yMin = Arrays.stream(y).min().getAsDouble();\nvar yMax = Arrays.stream(y).max().getAsDouble();\n\n// ScatterChart\nvar AXIS_WIDTH     = 25d;\nvar data = IntStream.range(0,Math.min(x.length, y.length)).mapToObj(i -> new XYChartItem(x[i], y[i])).toList();\nvar series = XYSeriesBuilder.create()\n                                   .items(data)\n                                   .chartType(ChartType.SCATTER)\n                                   .fill(Color.TRANSPARENT)\n                                   .stroke(Color.MAGENTA)\n                                   .symbolFill(Color.RED)\n                                   .symbolStroke(Color.TRANSPARENT)\n                                   .symbolsVisible(true)\n                                   .build();\nvar scatterChartXAxisBottom = Helper.createAxis(xMin, xMax, true, AXIS_WIDTH, Orientation.HORIZONTAL, Position.BOTTOM);\nvar scatterChartXAxisTop = Helper.createAxis(xMin, xMax, true, AXIS_WIDTH, Orientation.HORIZONTAL, Position.TOP);\nvar scatterChartXAxisCenter = Helper.createCenterXAxis(xMin, xMax, true, AXIS_WIDTH);\nvar scatterChartYAxisLeft   = Helper.createAxis(yMin, yMax, true, AXIS_WIDTH, Orientation.VERTICAL, Position.LEFT);\nvar scatterChartYAxisCenter = Helper.createCenterYAxis(yMin, yMax, true, AXIS_WIDTH);\nvar scatterChart            = new XYChart<>(new XYPane(series), scatterChartYAxisCenter, scatterChartXAxisTop, scatterChartXAxisBottom);\nscatterChartXAxisCenter.setAxisColor(Color.CRIMSON);\nscatterChartXAxisTop.setAxisColor(Color.CRIMSON);\nscatterChartXAxisBottom.setAxisColor(Color.CRIMSON);\nscatterChartYAxisCenter.setAxisColor(Color.CRIMSON);"
        },
        {
            "cell_type": "code",
            "id": "9df277a6-1aa0-4bff-ba8f-3a90d5ea1be7",
            "metadata": {
            },
            "outputs": [
                {
                    "data": {
                        "image/png": "[encoded data removed]"
                    },
                    "metadata": {
                    },
                    "output_type": "display_data"
                }
            ],
            "source": "display(scatterChart);"
        },
        {
            "cell_type": "code",
            "id": "374cef12-58b5-41f5-b017-ef721091579d",
            "metadata": {
            },
            "outputs": [
            ],
            "source": "var winsModel = OLS.fit(Formula.lhs(\"RD\"), moneyball.select(\"W\", \"RD\").smile().toDataFrame());"
        },
        {
            "cell_type": "code",
            "id": "3522d7e9-c365-4e6c-9af4-df0568a97873",
            "metadata": {
            },
            "outputs": [
            ],
            "source": "var runsScored = OLS.fit(Formula.lhs(\"RS\"), moneyball.select(\"OBP\", \"SLG\", \"RS\").smile().toDataFrame());"
        },
        {
            "cell_type": "code",
            "id": "7544773c-098f-447e-9534-f6b003152012",
            "metadata": {
            },
            "outputs": [
            ],
            "source": "new Histogram(xLabel:\"X\",\n              yLabel:\"Proportion\",\n              data: Arrays.asList(runsScored.residuals()),\n              binCount: 25);"
        },
        {
            "cell_type": "markdown",
            "id": "a8dc3131-d598-46fa-8026-9f5ad4040a5d",
            "metadata": {
            },
            "outputs": [
            ],
            "source": "## Financial and Economic Data\n\nYou can fetch data from [Quandl](https://www.quandl.com/) and load it directly into Tablesaw"
        },
        {
            "cell_type": "code",
            "id": "674e2567-570a-4a72-a624-7ff0a2f1e6db",
            "metadata": {
            },
            "outputs": [
            ],
            "source": "addDependency(\"com.jimmoores:quandl-tablesaw:2.1.0\");"
        },
        {
            "cell_type": "code",
            "id": "3d4eee2f-b1d7-4d8d-a262-863470b76a18",
            "metadata": {
            },
            "outputs": [
            ],
            "source": "import com.jimmoores.quandl.DataSetRequest;\nimport com.jimmoores.quandl.tablesaw.*;"
        },
        {
            "cell_type": "code",
            "id": "50febb25-cc91-4a1c-9193-55b3b474b238",
            "metadata": {
            },
            "outputs": [
            ],
            "source": "var session = TableSawQuandlSession.create();\nvar table = session.getDataSet(DataSetRequest.Builder.of(\"WIKI/AAPL\").build());\ntable"
        },
        {
            "cell_type": "code",
            "id": "07d1ca1d-4d23-41b1-88dc-40b55c4f2ea9",
            "metadata": {
            },
            "outputs": [
            ],
            "source": "// Create a new column containing the year\nvar yearColumn = table.dateColumn(\"Date\").year();\nyearColumn.setName(\"Year\");\ntable.addColumns(yearColumn);\n// Create max, min and total volume tables aggregated by year\nvar summaryMax = table.summarize(\"Adj. Close\", max).by(\"year\");\nvar summaryMin = table.summarize(\"Adj. Close\", min).by(\"year\");\nvar summaryVolume = table.summarize(\"Volume\", sum).by(\"year\");\n// Create a new table from each of these\nvar summary = Table.create(\"Summary\", summaryMax.column(0), summaryMax.column(1), \n                       summaryMin.column(1), summaryVolume.column(1));\n// Add back a DateColumn to the summary...will be used for plotting\nvar yearDates = DateColumn.create(\"YearDate\");\nfor (var year : summary.column(\"Year\")) {\n    yearDates.append(java.time.LocalDate.of((int) year, 1, 1));\n}\nsummary.addColumns(yearDates);\n\nsummary"
        },
        {
            "cell_type": "code",
            "id": "2dd09385-422a-4c48-a6c9-b8e2449468f9",
            "metadata": {
            },
            "outputs": [
            ],
            "source": "var years = summary.column('YearDate').collect()\n\nplot = new TimePlot(title: 'Price Chart for AAPL', xLabel: 'Time', yLabel: 'Max [Adj. Close]')\nplot << new YAxis(label: 'Volume')\nplot << new Points(x: years, y: summary.column('Max [Adj. Close]').collect())\nplot << new Line(x: years, y: summary.column('Max [Adj. Close]').collect(), color: Color.blue)\nplot << new Stems(x: years, y: summary.column('Sum [Volume]').collect(), yAxis: 'Volume')"
        }
    ],
    "metadata": {
        "language_info": {
            "version": "21",
            "name": "Java"
        },
        "kernel_info": {
            "version": "0.1",
            "name": "JTaccuino"
        }
    },
    "nbformat": 4,
    "nbformat_minor": 5
}